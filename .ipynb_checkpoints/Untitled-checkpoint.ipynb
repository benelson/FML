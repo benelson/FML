{
 "cells": [
  {
   "cell_type": "code",
   "execution_count": 1,
   "metadata": {
    "collapsed": true
   },
   "outputs": [],
   "source": [
    "import pylab as plt\n",
    "import numpy as np\n",
    "%matplotlib inline"
   ]
  },
  {
   "cell_type": "code",
   "execution_count": 2,
   "metadata": {
    "collapsed": true
   },
   "outputs": [],
   "source": [
    "def func(x,k):\n",
    "    return 1. * np.cos(k*x+1.0)"
   ]
  },
  {
   "cell_type": "code",
   "execution_count": 3,
   "metadata": {
    "collapsed": false
   },
   "outputs": [
    {
     "name": "stdout",
     "output_type": "stream",
     "text": [
      "[-0.94747455 -0.86030028 -0.84027956 -0.81326602 -0.78866921 -0.65630009\n",
      " -0.6017183  -0.56810539 -0.51823865 -0.50932982 -0.47715409 -0.47412648\n",
      " -0.42275049 -0.37267853 -0.33131528 -0.14623133 -0.14346526 -0.11003132\n",
      " -0.05176124  0.04841248  0.16212944  0.19930484  0.2445011   0.28346596\n",
      "  0.55796284  0.57026847  0.57148477  0.67248522  0.74187778  0.74776121\n",
      "  0.7597363   0.82135741  0.9856016 ]\n",
      "[-0.65609681  0.07461982 -0.88960282 -0.16358059 -0.64440909 -0.27445388\n",
      " -0.78126707 -0.04789769 -0.43195425  0.82068363  0.20141565 -0.31151375\n",
      "  0.71296799  0.56480708 -0.90129298  0.7530783  -0.45929888 -0.6022954\n",
      "  0.8796086   0.65772449  0.97289074  0.72683782  0.89743633 -0.15124224\n",
      "  0.97118271  0.87691389  0.75515418  0.37686017  0.10866756  0.48698801\n",
      "  0.89117039  0.73855942  0.99000461]\n"
     ]
    }
   ],
   "source": [
    "k = 1000\n",
    "\n",
    "#x_obs = np.linspace(0.001,10.,103)\n",
    "#x_obs = np.sort(np.random.uniform(-1.,1.,50))\n",
    "x_obs = np.array([-0.94747455, -0.86030028, -0.84027956, -0.81326602, -0.78866921, -0.65630009,\n",
    "                  -0.6017183,  -0.56810539, -0.51823865, -0.50932982, -0.47715409, -0.47412648,\n",
    "                  -0.42275049, -0.37267853, -0.33131528, -0.14623133, -0.14346526, -0.11003132,\n",
    "                  -0.05176124, 0.04841248,  0.16212944, 0.19930484,  0.2445011,  0.28346596,\n",
    "                  0.55796284,  0.57026847,  0.57148477, 0.67248522,  0.74187778,  0.74776121,\n",
    "                  0.7597363, 0.82135741,  0.9856016 ])\n",
    "\n",
    "x_mod = np.linspace(-1.5,1.5,10000)\n",
    "print(x_obs)\n",
    "print(func(x_obs,k))"
   ]
  },
  {
   "cell_type": "code",
   "execution_count": 4,
   "metadata": {
    "collapsed": false
   },
   "outputs": [
    {
     "data": {
      "image/png": "[encoded data removed]",
      "text/plain": [
       "<matplotlib.figure.Figure at 0x10aba3908>"
      ]
     },
     "metadata": {},
     "output_type": "display_data"
    }
   ],
   "source": [
    "plt.plot(x_obs, func(x_obs, k), 'o', color='black')\n",
    "#plt.plot(x_mod[0:3000], func(x_mod[0:3000], k), '-')\n",
    "plt.xlim(-1.1,1.1)\n",
    "plt.ylim(-1.1,1.1)\n",
    "plt.xticks(fontsize=0)\n",
    "plt.yticks(fontsize=0)\n",
    "plt.xlabel(\"x\", fontsize=16)\n",
    "plt.ylabel(\"y\", fontsize=16)\n",
    "plt.tight_layout()\n",
    "plt.savefig(\"../../presentations/2016_Sagan/scatter.png\",dpi=150)\n",
    "plt.show()"
   ]
  },
  {
   "cell_type": "code",
   "execution_count": 6,
   "metadata": {
    "collapsed": false
   },
   "outputs": [
    {
     "data": {
      "text/plain": [
       "<matplotlib.figure.Figure at 0x10ab84ac8>"
      ]
     },
     "metadata": {},
     "output_type": "display_data"
    }
   ],
   "source": [
    "for i in range(0, 10000, 100):\n",
    "    j = str(int(i/100)).zfill(2)\n",
    "    plt.plot(x_obs, func(x_obs, k), 'o', color='black')\n",
    "    plt.plot(x_mod[0:i], func(x_mod[0:i], k), '-')\n",
    "    plt.xlim(-1.1,1.1)\n",
    "    plt.ylim(-1.1,1.1)\n",
    "    plt.xticks(fontsize=0)\n",
    "    plt.yticks(fontsize=0)\n",
    "    plt.xlabel(\"x\", fontsize=16)\n",
    "    plt.ylabel(\"y\", fontsize=16)\n",
    "    plt.tight_layout()\n",
    "    plt.savefig(\"../../presentations/2016_Sagan/scatter_\"+j+\".png\",dpi=150)\n",
    "    plt.clf()"
   ]
  },
  {
   "cell_type": "code",
   "execution_count": 7,
   "metadata": {
    "collapsed": true
   },
   "outputs": [],
   "source": [
    "import compute\n",
    "import create\n",
    "import observations"
   ]
  },
  {
   "cell_type": "code",
   "execution_count": 16,
   "metadata": {
    "collapsed": false
   },
   "outputs": [
    {
     "data": {
      "image/png": "[encoded data removed]",
      "text/plain": [
       "<matplotlib.figure.Figure at 0x10e2966a0>"
      ]
     },
     "metadata": {},
     "output_type": "display_data"
    }
   ],
   "source": [
    "# central star mass\n",
    "mStar = 1.0\n",
    "\n",
    "# set orbital parameters for n-planets here\n",
    "params_true = {\"period\": [60.],\\\n",
    "               \"half-amp\": [30.],\\\n",
    "               \"eccentricity\": [0.4],\\\n",
    "               \"argperi\": [np.pi/4.],\\\n",
    "               \"meanomaly\": [np.pi/4.]}\n",
    "\n",
    "# params_true_by_planet: list of lists that is essentially params_true transposed\n",
    "# params_true_chained: all parameters as 1-d list\n",
    "params_true_by_planet, params_true_chained = create.input_format(params_true)\n",
    "nPlanets_true = len(params_true_by_planet)\n",
    "\n",
    "# generate synthetic RV measurements\n",
    "obs = observations.FakeObservation(compute.sma_and_mass(params_true_chained, mStar),\\\n",
    "                                   nPoints=40, error=2.0, tmax=100., mStar=mStar)\n",
    "\n",
    "# plot the RV data\n",
    "plt.errorbar(obs.t, obs.rv, yerr=obs.err, fmt='.')\n",
    "plt.xlabel('Time [days]', fontsize=14)\n",
    "plt.ylabel('Radial velocity [m/s]', fontsize=14)\n",
    "plt.show()"
   ]
  },
  {
   "cell_type": "code",
   "execution_count": 17,
   "metadata": {
    "collapsed": true
   },
   "outputs": [],
   "source": [
    "import scipy.optimize as op\n",
    "\n",
    "def bounds(theta):\n",
    "    '''\n",
    "    Bounds function. Ensures gravitationally bound orbits (0 < e < 1) and some non-negative quantities.\n",
    "        \n",
    "        Parameters\n",
    "        ----------\n",
    "        theta : 1-d list of Keplerian orbital parameters (p, K, e, w, M)\n",
    "                for every modeled planet\n",
    "    '''\n",
    "    bnds = ()\n",
    "    for i in range(int(len(theta)/5)):\n",
    "        bnds = bnds + ((0., None), (0., None), (0.,1.), (-2.*np.pi, 2.*np.pi), (-2.*np.pi, 2.*np.pi))\n",
    "    return bnds\n",
    "\n",
    "def create_init(theta):\n",
    "    '''\n",
    "    Create initial conditions for MCMC based on input theta\n",
    "        \n",
    "        Parameters\n",
    "        ----------\n",
    "        theta : 1-d list of Keplerian orbital parameters (p, K, e, w, M)\n",
    "                for every modeled planet\n",
    "    '''\n",
    "    nPlanets = int(len(theta)/5)\n",
    "    planets = [theta[x:x+5] for x in range(0, nPlanets*5, 5)]\n",
    "    init = []\n",
    "    for i, planet in enumerate(planets):\n",
    "        init.append(planet[0] + np.random.normal(0.,0.01))\n",
    "        init.append(planet[1] + np.random.normal(0.,0.05))\n",
    "        init.append(planet[2] + abs(np.random.normal(0.,0.01)))\n",
    "        init.append(planet[3] + np.random.normal(0.,0.5))\n",
    "        init.append(planet[4] + np.random.normal(0.,0.5))\n",
    "    return init\n",
    "\n",
    "nll = lambda *args: -lnlike(*args)"
   ]
  },
  {
   "cell_type": "code",
   "execution_count": 38,
   "metadata": {
    "collapsed": true
   },
   "outputs": [],
   "source": [
    "def lnlike(theta, obs):\n",
    "    '''\n",
    "    The log-likelihood function. Observational model assume RVs have independent Gaussian error bars.\n",
    "        \n",
    "        Parameters\n",
    "        ----------\n",
    "        theta : 1-d list of Keplerian orbital parameters (p, K, e, w, M)\n",
    "                for every modeled planet\n",
    "        obs   : observations object with radial velocity measurement (.rv)\n",
    "                and uncertainty (.err) attributes\n",
    "    '''\n",
    "    obs.t = np.ma.array(obs.t, mask=False)\n",
    "    obs.t.mask[7] = True\n",
    "    model = compute.rv(theta, obs)\n",
    "    inv_sigma2 = 1.0/(obs.err * obs.err)\n",
    "    return -0.5*( np.sum( (obs.rv - model)*(obs.rv - model)*inv_sigma2 - np.log(inv_sigma2) ) )"
   ]
  },
  {
   "cell_type": "code",
   "execution_count": null,
   "metadata": {
    "collapsed": true
   },
   "outputs": [],
   "source": []
  },
  {
   "cell_type": "code",
   "execution_count": null,
   "metadata": {
    "collapsed": false
   },
   "outputs": [
    {
     "name": "stderr",
     "output_type": "stream",
     "text": [
      "//anaconda/lib/python3.5/site-packages/numpy/ma/core.py:4089: UserWarning: Warning: converting a masked element to nan.\n",
      "  warnings.warn(\"Warning: converting a masked element to nan.\")\n"
     ]
    }
   ],
   "source": [
    "system_1pl = params_true_by_planet[0]\n",
    "MLE_1pl = list( op.minimize( nll, system_1pl, args=obs, bounds=bounds(system_1pl) )['x'] )\n",
    "\n",
    "print(\"MLE for one-planet model           [p, K, e, w, M]:\")\n",
    "print(MLE_1pl)\n",
    "print(\"\")\n",
    "print(\"Actual properties from input model [p, K, e, w, M]:\")\n",
    "print(system_1pl)\n",
    "[59.607167972103539, 29.602961983318981, 0.38003336132094256, 0.74913052733632413, 0.77867504836075341]"
   ]
  },
  {
   "cell_type": "code",
   "execution_count": 30,
   "metadata": {
    "collapsed": true
   },
   "outputs": [],
   "source": [
    "import rebound\n",
    "\n",
    "class generate_model(model):\n",
    "    def __init__(self, planets, times=[0., 1.], mStar=1.):\n",
    "        \"\"\"\n",
    "            Generates fake observations. \n",
    "        \"\"\"\n",
    "        AUperTwoPiYearToMetersPerSecond = 29805.672\n",
    "        self.nPoints = len(times)\n",
    "        self.mStar = mStar\n",
    "        sim = rebound.Simulation()\n",
    "        sim.add(m=self.mStar)\n",
    "\n",
    "        for planet in planets:\n",
    "#            input = {\"a\": planet[0], \"m\": planet[1], \"e\": planet[2], \"omega\": planet[3], \"M\": planet[4]}\n",
    "#            sim.add(sim.particles[0], **input)\n",
    "            sim.add(primary=sim.particles[0],**planet)\n",
    "        sim.move_to_com()\n",
    "        \n",
    "        self.t = times\n",
    "        self.rv = np.zeros(self.nPoints)\n",
    "        for i, t in enumerate(self.t * 2. * np.pi / 365.2425):\n",
    "            sim.integrate(t)\n",
    "            self.rv[i] = sim.particles[0].vx * AUperTwoPiYearToMetersPerSecond"
   ]
  },
  {
   "cell_type": "code",
   "execution_count": 34,
   "metadata": {
    "collapsed": false
   },
   "outputs": [
    {
     "name": "stderr",
     "output_type": "stream",
     "text": [
      "//anaconda/lib/python3.5/site-packages/numpy/ma/core.py:4089: UserWarning: Warning: converting a masked element to nan.\n",
      "  warnings.warn(\"Warning: converting a masked element to nan.\")\n"
     ]
    },
    {
     "data": {
      "image/png": "[encoded data removed]",
      "text/plain": [
       "<matplotlib.figure.Figure at 0x10e7b65c0>"
      ]
     },
     "metadata": {},
     "output_type": "display_data"
    }
   ],
   "source": [
    "t = np.linspace(0.,100.,1000)\n",
    "\n",
    "mod = generate_model(compute.sma_and_mass(params_true_chained, mStar), times=t, mStar=mStar)\n",
    "\n",
    "plt.errorbar(obs_times, obs.rv, yerr=obs.err, fmt='.')\n",
    "plt.plot(t, mod.rv, '-')\n",
    "plt.xlabel('Time [days]', fontsize=14)\n",
    "plt.ylabel('Radial velocity [m/s]', fontsize=14)\n",
    "plt.show()"
   ]
  },
  {
   "cell_type": "code",
   "execution_count": null,
   "metadata": {
    "collapsed": true
   },
   "outputs": [],
   "source": []
  }
 ],
 "metadata": {
  "kernelspec": {
   "display_name": "Python 3",
   "language": "python",
   "name": "python3"
  },
  "language_info": {
   "codemirror_mode": {
    "name": "ipython",
    "version": 3
   },
   "file_extension": ".py",
   "mimetype": "text/x-python",
   "name": "python",
   "nbconvert_exporter": "python",
   "pygments_lexer": "ipython3",
   "version": "3.5.2"
  }
 },
 "nbformat": 4,
 "nbformat_minor": 0
}
